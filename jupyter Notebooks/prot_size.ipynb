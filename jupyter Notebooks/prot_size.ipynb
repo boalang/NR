{
 "cells": [
  {
   "cell_type": "markdown",
   "metadata": {},
   "source": [
    "# Boa query\n"
   ]
  },
  {
   "cell_type": "code",
   "execution_count": null,
   "metadata": {
    "collapsed": true
   },
   "outputs": [],
   "source": [
    "import subprocess\n",
    "import os\n",
    "\n",
    "\n",
    "def run_boa(boa_script, output_directory):\n",
    "    with open(\"test.boa\", \"w\") as boa_file:\n",
    "        boa_file.write(boa_script)\n",
    "    bashCommand = \"bash dsmaster.sh test.boa \" + output_directory\n",
    "    process = subprocess.Popen(bashCommand.split(), stdout=subprocess.PIPE)\n",
    "    output, error = process.communicate()\n",
    "\n",
    "    if (len(output) < 400):\n",
    "        print(\"error in compile step, please see the console\")\n",
    "    else:\n",
    "        print (\"Output location \" + output_directory + \"/part-r-00000 \\n\")\n",
    "\n",
    "        bashCommand=\"head -10 \" + output_directory +\"/part-r-00000\"\n",
    "        process = subprocess.Popen(bashCommand.split(), stdout=subprocess.PIPE)\n",
    "        output, error = process.communicate()\n",
    "        \n",
    "        # print the output\n",
    "        out=str(output).split(\"\\\\n\")\n",
    "        out=out[2:len(out)-1]\n",
    "        for line in out:\n",
    "            print(line)"
   ]
  },
  {
   "cell_type": "code",
   "execution_count": null,
   "metadata": {
    "collapsed": true
   },
   "outputs": [],
   "source": [
    "boa_script = \"\"\"\n",
    "# Number of proteins for different size\n",
    "s: Sequence = input;\n",
    "counts: output sum[int] of int;\n",
    "\n",
    "foreach(i:int; def(s.cluster[i])){\n",
    "  if (s.cluster[i].similarity==95)\n",
    "\tcounts [s.cluster[i].length] <<  1;\n",
    "}\n",
    "\"\"\"\n",
    "output_location= \"boa_output\"\n",
    "\n",
    "run_boa(boa_script, output_location)"
   ]
  },
  {
   "cell_type": "code",
   "execution_count": 26,
   "metadata": {
    "collapsed": true
   },
   "outputs": [],
   "source": [
    "# libraries\n",
    "import matplotlib.pyplot as plt\n",
    "import numpy as np\n",
    "import pandas as pd\n"
   ]
  },
  {
   "cell_type": "code",
   "execution_count": 27,
   "metadata": {},
   "outputs": [
    {
     "data": {
      "image/png": "[encoded data removed]",
      "text/plain": [
       "<matplotlib.figure.Figure at 0x11dc76208>"
      ]
     },
     "metadata": {},
     "output_type": "display_data"
    }
   ],
   "source": [
    "import numpy as np\n",
    "\n",
    "df =pd.read_csv('/Users/hbagheri/Downloads/nr_database/part-r-00000_modified', delimiter = \"\\t\", header=None)\n",
    "df.columns=['x','y']\n",
    "plt.scatter(np.log(df['x']),df['y'])\n",
    "plt.show()\n"
   ]
  },
  {
   "cell_type": "code",
   "execution_count": 28,
   "metadata": {},
   "outputs": [
    {
     "name": "stdout",
     "output_type": "stream",
     "text": [
      "           x       y\n",
      "0      10000       2\n",
      "1      10001       1\n",
      "2      10002       1\n",
      "3      10003       4\n",
      "4      10004       2\n",
      "5      10005       1\n",
      "6      10006       2\n",
      "7      10007       4\n",
      "8      10008       3\n",
      "9      10009       2\n",
      "10      1000   15455\n",
      "11     10010       2\n",
      "12     10011       3\n",
      "13     10012       1\n",
      "14     10013       1\n",
      "15     10015       1\n",
      "16     10016       7\n",
      "17     10018       1\n",
      "18     10019       4\n",
      "19      1001   15529\n",
      "20     10020       2\n",
      "21     10021       3\n",
      "22     10022       4\n",
      "23     10023       1\n",
      "24     10024       1\n",
      "25     10025       5\n",
      "26     10026       1\n",
      "27     10027       1\n",
      "28     10029       1\n",
      "29      1002   15242\n",
      "...      ...     ...\n",
      "13826   9966       4\n",
      "13827   9967       1\n",
      "13828   9968       3\n",
      "13829   9969       1\n",
      "13830    996   15742\n",
      "13831   9970       1\n",
      "13832   9971       1\n",
      "13833   9972       2\n",
      "13834   9975       1\n",
      "13835   9976       3\n",
      "13836   9978       2\n",
      "13837    997   15872\n",
      "13838   9980       3\n",
      "13839   9981       2\n",
      "13840   9983       1\n",
      "13841   9984       2\n",
      "13842   9985       1\n",
      "13843   9988       2\n",
      "13844   9989       2\n",
      "13845    998   15807\n",
      "13846   9990       1\n",
      "13847   9991       3\n",
      "13848   9993       2\n",
      "13849   9994       3\n",
      "13850   9995       2\n",
      "13851   9996       2\n",
      "13852   9998       1\n",
      "13853   9999       1\n",
      "13854    999   16781\n",
      "13855     99  346987\n",
      "\n",
      "[13856 rows x 2 columns]\n"
     ]
    }
   ],
   "source": [
    "print(df)"
   ]
  },
  {
   "cell_type": "code",
   "execution_count": null,
   "metadata": {
    "collapsed": true
   },
   "outputs": [],
   "source": []
  }
 ],
 "metadata": {
  "kernelspec": {
   "display_name": "Python 3",
   "language": "python",
   "name": "python3"
  },
  "language_info": {
   "codemirror_mode": {
    "name": "ipython",
    "version": 3
   },
   "file_extension": ".py",
   "mimetype": "text/x-python",
   "name": "python",
   "nbconvert_exporter": "python",
   "pygments_lexer": "ipython3",
   "version": "3.6.1"
  }
 },
 "nbformat": 4,
 "nbformat_minor": 2
}
