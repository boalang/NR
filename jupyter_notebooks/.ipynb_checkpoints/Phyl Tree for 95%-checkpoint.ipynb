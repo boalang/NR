{
 "cells": [
  {
   "cell_type": "markdown",
   "metadata": {},
   "source": [
    "### \"A Higher Level Classification of All Living Organisms\", PLOS' 2015\n",
    "\n",
    "* List of phyla from this paper, see Table 2\n",
    "\n",
    "* https://journals.plos.org/plosone/article?id=10.1371/journal.pone.0119248#sec003\n"
   ]
  },
  {
   "cell_type": "markdown",
   "metadata": {},
   "source": [
    "## Steps on Bridges generate the tree\n"
   ]
  },
  {
   "cell_type": "code",
   "execution_count": null,
   "metadata": {
    "collapsed": true
   },
   "outputs": [],
   "source": []
  },
  {
   "cell_type": "markdown",
   "metadata": {},
   "source": [
    "## Post-processing on the "
   ]
  },
  {
   "cell_type": "code",
   "execution_count": null,
   "metadata": {},
   "outputs": [],
   "source": [
    "\n",
    "from ete3 import NCBITaxa, PhyloTree, Tree, faces, AttrFace, TreeStyle, TextFace\n",
    "\n",
    "ncbi = NCBITaxa()\n",
    "taxlist =list()\n",
    "taxDic = dict()\n",
    "\n",
    "def layout(node):\n",
    "    # If node is a leaf, add the nodes name and a its scientific name\n",
    "    nameFace = faces.AttrFace(\"sci_name\",  fgcolor=\"#009000\")\n",
    "    nameFace2 = faces.AttrFace(\"rank\",  fgcolor=\"#009000\") #fsize=20,\n",
    "\n",
    "\n",
    "    rank = 100\n",
    "    if node.is_leaf():\n",
    "#         faces.add_face_to_node(nameFace, node, column=0)\n",
    "        #faces.add_face_to_node(nameFace2, node, column=1)\n",
    "\n",
    "        node.add_face(nameFace, column=2)\n",
    "        node.add_face(TextFace(\", \"), column=3)\n",
    "        node.add_face(TextFace(taxDic[int(node.name)]), column=4)\n",
    "        \n",
    "\n",
    "\n",
    "        percentages = 100 * float(taxDic[int(node.name)])/float(88276733) \n",
    "        \n",
    "        if percentages < 1: \n",
    "            node.add_face(TextFace(\" \"), column=5)\n",
    "            node.add_face(TextFace( \" \" ), column=6)\n",
    "        else:\n",
    "            node.add_face(TextFace(\", \"), column=5)\n",
    "            node.add_face(TextFace(str(round(percentages, 2)) + \"%\" ), column=6)\n",
    "\n",
    "\n",
    "\n",
    "\n",
    "        \n",
    "\n",
    "with open('interested_taxids', \"r\") as f:\n",
    "    for line in f:\n",
    "        taxid = line.split()[0]\n",
    "        seq_count = line.split()[1]\n",
    "\n",
    "        rank = ncbi.get_rank([int(taxid)])\n",
    "        if rank[int(taxid)]=='phylum':\n",
    "            taxlist.append(int(taxid))\n",
    "            taxDic [int(taxid)] = int(seq_count)\n",
    "\n",
    "\n",
    "tree = ncbi.get_topology(taxlist, intermediate_nodes=False)\n",
    "tmp_tree2 = tree.get_ascii(attributes=[\"sci_name\", \"rank\"])\n",
    "\n",
    "# print(taxlist)\n",
    "# print(tmp_tree2)\n",
    "\n",
    "# print (tree.get_ascii(attributes=[\"sci_name\", \"rank\", \"name\"], show_internal=False))\n",
    "\n",
    "\n",
    "ts = TreeStyle()\n",
    "ts.show_leaf_name = False\n",
    "ts.branch_vertical_margin = 10 # 10 pixels between adjacent branches\n",
    "ts.layout_fn = layout\n",
    "\n",
    "tree.render(\"%%inline\", w=100, units=\"mm\", tree_style=ts)\n",
    "\n",
    "\n",
    "\n"
   ]
  },
  {
   "cell_type": "code",
   "execution_count": null,
   "metadata": {
    "collapsed": true
   },
   "outputs": [],
   "source": []
  }
 ],
 "metadata": {
  "kernelspec": {
   "display_name": "Python 3",
   "language": "python",
   "name": "python3"
  },
  "language_info": {
   "codemirror_mode": {
    "name": "ipython",
    "version": 3
   },
   "file_extension": ".py",
   "mimetype": "text/x-python",
   "name": "python",
   "nbconvert_exporter": "python",
   "pygments_lexer": "ipython3",
   "version": "3.6.8"
  }
 },
 "nbformat": 4,
 "nbformat_minor": 2
}
