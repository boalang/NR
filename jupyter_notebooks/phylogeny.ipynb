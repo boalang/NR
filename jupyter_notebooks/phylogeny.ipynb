{
 "cells": [
  {
   "cell_type": "markdown",
   "metadata": {},
   "source": [
    "# Generate Phylogeny tree\n",
    "#### For a particular protein, there are multiple taxonomic assignment originate from different databases."
   ]
  },
  {
   "cell_type": "code",
   "execution_count": 4,
   "metadata": {
    "collapsed": true
   },
   "outputs": [],
   "source": [
    "from ete3 import NCBITaxa, Tree, faces, AttrFace, TreeStyle, NodeStyle, TextFace\n",
    "from ete3 import ClusterTree\n",
    "\n",
    "ncbi = NCBITaxa()\n"
   ]
  },
  {
   "cell_type": "markdown",
   "metadata": {},
   "source": [
    "#### List of tax id and databae of origin for each tax id are used to generate the tree"
   ]
  },
  {
   "cell_type": "code",
   "execution_count": 2,
   "metadata": {},
   "outputs": [
    {
     "name": "stdout",
     "output_type": "stream",
     "text": [
      "Example numerical matrix\n",
      "\n",
      "#Names\tRefSeq\tGenBank\tPDB\tSwissProt\tTrEMBL\n",
      "Homo sapiens\t1\t5.0\t0\t1\t0  \n",
      "synthetic construct\t0\t1\t0\t0\t0  \n",
      "Human ORFeome Gateway entry vector\t1\t0\t0\t0\t0  \n",
      "\n"
     ]
    }
   ],
   "source": [
    "\n",
    "tree= Tree(\"((synthetic construct:1,Human ORFeome Gateway entry vector:1)1:1,Homo sapiens:1);\")\n",
    "\n",
    " \n",
    "matrix = \"\"\"\n",
    "#Names\\tRefSeq\\tGenBank\\tPDB\\tSwissProt\\tTrEMBL\n",
    "Homo sapiens\\t1\\t5.0\\t0\\t1\\t0  \n",
    "synthetic construct\\t0\\t1\\t0\\t0\\t0  \n",
    "Human ORFeome Gateway entry vector\\t1\\t0\\t0\\t0\\t0  \n",
    "\"\"\"\n",
    "print (\"Example numerical matrix\")\n",
    "print (matrix)\n",
    "\n",
    "t = ClusterTree(tree.write(),  text_array=matrix)"
   ]
  },
  {
   "cell_type": "code",
   "execution_count": 3,
   "metadata": {},
   "outputs": [
    {
     "name": "stdout",
     "output_type": "stream",
     "text": [
      "cluster_bars\n"
     ]
    },
    {
     "data": {
      "image/png": "[encoded data removed]",
      "text/plain": [
       "<IPython.core.display.Image object>"
      ]
     },
     "execution_count": 3,
     "metadata": {},
     "output_type": "execute_result"
    }
   ],
   "source": [
    "print(\"cluster_bars\")\n",
    "t.render(\"%%inline\", \"cluster_bars\", w=900)"
   ]
  },
  {
   "cell_type": "code",
   "execution_count": null,
   "metadata": {
    "collapsed": true
   },
   "outputs": [],
   "source": []
  }
 ],
 "metadata": {
  "kernelspec": {
   "display_name": "Python 3",
   "language": "python",
   "name": "python3"
  },
  "language_info": {
   "codemirror_mode": {
    "name": "ipython",
    "version": 3
   },
   "file_extension": ".py",
   "mimetype": "text/x-python",
   "name": "python",
   "nbconvert_exporter": "python",
   "pygments_lexer": "ipython3",
   "version": "3.6.8"
  }
 },
 "nbformat": 4,
 "nbformat_minor": 2
}
