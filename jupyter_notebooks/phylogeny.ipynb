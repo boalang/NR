{
 "cells": [
  {
   "cell_type": "markdown",
   "metadata": {},
   "source": [
    "# Generate Phylogeny tree\n",
    "* For a particular protein, there are multiple taxonomic assignment originate from different databases."
   ]
  },
  {
   "cell_type": "code",
   "execution_count": 1,
   "metadata": {
    "collapsed": true
   },
   "outputs": [],
   "source": [
    "from ete3 import NCBITaxa, Tree, faces, AttrFace, TreeStyle, NodeStyle, TextFace\n",
    "from ete3 import ClusterTree\n",
    "\n",
    "ncbi = NCBITaxa()\n"
   ]
  },
  {
   "cell_type": "code",
   "execution_count": 2,
   "metadata": {},
   "outputs": [
    {
     "name": "stdout",
     "output_type": "stream",
     "text": [
      "Error in tree ncbi\n",
      "Error in tree ncbi\n",
      "Error in tree ncbi\n"
     ]
    },
    {
     "data": {
      "image/png": "[encoded data removed]",
      "text/plain": [
       "<IPython.core.display.Image object>"
      ]
     },
     "execution_count": 2,
     "metadata": {},
     "output_type": "execute_result"
    }
   ],
   "source": [
    "\n",
    "\n",
    "def layout(node):\n",
    "\n",
    "    # If node is a leaf, add the nodes name and a its scientific name\n",
    "    nameFace = faces.AttrFace(\"name\", fsize=20, fgcolor=\"#009000\")\n",
    "\n",
    "    rank = 100\n",
    "    if node.is_leaf():\n",
    "        faces.add_face_to_node(nameFace, node, column=2)\n",
    "        try:\n",
    "            txt2name=ncbi.get_taxid_translator([node.name])\n",
    "\n",
    "            for item in txt2name:\n",
    "                sci_name =txt2name[item]\n",
    "\n",
    "            faces.add_face_to_node(TextFace(sci_name, fsize=30), node, column=0)\n",
    "\n",
    "        except:\n",
    "            print(\"Error in tree ncbi\")\n",
    "\n",
    "tax_list = [9606, 32630, 1958742]\n",
    "# tree = ncbi.get_topology(tax_list, intermediate_nodes=False)\n",
    "tree= Tree(\"((synthetic construct:1,Human ORFeome Gateway entry vector:1)1:1,Homo sapiens:1);\")\n",
    "\n",
    "for node in tree:\n",
    "    node.add_features(count=14) \n",
    "    \n",
    "ts = TreeStyle()\n",
    "ts.show_leaf_name = True\n",
    "ts.branch_vertical_margin = 10 # 10 pixels between adjacent branches\n",
    "ts.layout_fn = layout\n",
    "\n",
    "\n",
    "tree.render(\"%%inline\", w=100, units=\"mm\", tree_style=ts)\n"
   ]
  },
  {
   "cell_type": "code",
   "execution_count": 4,
   "metadata": {},
   "outputs": [
    {
     "name": "stdout",
     "output_type": "stream",
     "text": [
      "Example numerical matrix\n",
      "\n",
      "#Names\tRefSeq\tGenBank\tPDB\tSwissProt\tTrEMBL\n",
      "Homo sapiens\t1\t5.0\t0\t1\t0  \n",
      "synthetic construct\t0\t1\t0\t0\t0  \n",
      "Human ORFeome Gateway entry vector\t1\t0\t0\t0\t0  \n",
      "\n"
     ]
    }
   ],
   "source": [
    "\n",
    "tree= Tree(\"((synthetic construct:1,Human ORFeome Gateway entry vector:1)1:1,Homo sapiens:1);\")\n",
    "\n",
    " \n",
    "matrix = \"\"\"\n",
    "#Names\\tRefSeq\\tGenBank\\tPDB\\tSwissProt\\tTrEMBL\n",
    "Homo sapiens\\t1\\t5.0\\t0\\t1\\t0  \n",
    "synthetic construct\\t0\\t1\\t0\\t0\\t0  \n",
    "Human ORFeome Gateway entry vector\\t1\\t0\\t0\\t0\\t0  \n",
    "\"\"\"\n",
    "print (\"Example numerical matrix\")\n",
    "print (matrix)\n",
    "\n",
    "t = ClusterTree(tree.write(),  text_array=matrix)"
   ]
  },
  {
   "cell_type": "code",
   "execution_count": 5,
   "metadata": {},
   "outputs": [
    {
     "name": "stdout",
     "output_type": "stream",
     "text": [
      "cluster_bars\n"
     ]
    },
    {
     "data": {
      "image/png": "[encoded data removed]",
      "text/plain": [
       "<IPython.core.display.Image object>"
      ]
     },
     "execution_count": 5,
     "metadata": {},
     "output_type": "execute_result"
    }
   ],
   "source": [
    "print(\"cluster_bars\")\n",
    "t.render(\"%%inline\", \"cluster_bars\", w=900)"
   ]
  },
  {
   "cell_type": "code",
   "execution_count": null,
   "metadata": {
    "collapsed": true
   },
   "outputs": [],
   "source": []
  }
 ],
 "metadata": {
  "kernelspec": {
   "display_name": "Python 3",
   "language": "python",
   "name": "python3"
  },
  "language_info": {
   "codemirror_mode": {
    "name": "ipython",
    "version": 3
   },
   "file_extension": ".py",
   "mimetype": "text/x-python",
   "name": "python",
   "nbconvert_exporter": "python",
   "pygments_lexer": "ipython3",
   "version": "3.6.8"
  }
 },
 "nbformat": 4,
 "nbformat_minor": 2
}
