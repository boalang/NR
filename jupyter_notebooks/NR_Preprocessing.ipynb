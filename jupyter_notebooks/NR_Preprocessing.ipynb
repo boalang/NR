{
 "cells": [
  {
   "cell_type": "markdown",
   "metadata": {},
   "source": [
    "# NR preprocessing\n",
    "\n",
    "* This notebooks gets the Boa output file and convet it to a dictionary like for checking inconsistencies in the annotations\n",
    "\n",
    "\n",
    "## Convert Boa output to dictionary like index\n",
    "\n",
    "* Boa output as an input to python script\n",
    "\n",
    "```\n",
    "count[12E8][12E8][10090] = 4\n",
    "count[12E8][3JAB][9913] = 4\n",
    "count[12E8][3JBQ][9913] = 2    \n",
    "\n",
    "```\n",
    "\n",
    "* Output of the script should be as follows:\n",
    "\n",
    "```\n",
    "12E8:12E8,10090=4;3JAB,9913=4;3JBQ,9913=2\n",
    "```"
   ]
  },
  {
   "cell_type": "code",
   "execution_count": 37,
   "metadata": {},
   "outputs": [
    {
     "ename": "FileNotFoundError",
     "evalue": "[Errno 2] No such file or directory: 'part-r-00000'",
     "output_type": "error",
     "traceback": [
      "\u001b[0;31m---------------------------------------------------------------------------\u001b[0m",
      "\u001b[0;31mFileNotFoundError\u001b[0m                         Traceback (most recent call last)",
      "\u001b[0;32m<ipython-input-37-375a3571146d>\u001b[0m in \u001b[0;36m<module>\u001b[0;34m()\u001b[0m\n\u001b[1;32m     50\u001b[0m \u001b[0;34m\u001b[0m\u001b[0m\n\u001b[1;32m     51\u001b[0m \u001b[0mBoa_file\u001b[0m \u001b[0;34m=\u001b[0m\u001b[0;34m\"part-r-00000\"\u001b[0m\u001b[0;34m\u001b[0m\u001b[0;34m\u001b[0m\u001b[0m\n\u001b[0;32m---> 52\u001b[0;31m \u001b[0mBoaOutput2Text\u001b[0m\u001b[0;34m(\u001b[0m\u001b[0mBoa_file\u001b[0m\u001b[0;34m)\u001b[0m\u001b[0;34m\u001b[0m\u001b[0;34m\u001b[0m\u001b[0m\n\u001b[0m",
      "\u001b[0;32m<ipython-input-37-375a3571146d>\u001b[0m in \u001b[0;36mBoaOutput2Text\u001b[0;34m(Boa_file)\u001b[0m\n\u001b[1;32m      6\u001b[0m     \u001b[0mcurrent_id\u001b[0m \u001b[0;34m=\u001b[0m \u001b[0;34m-\u001b[0m\u001b[0;36m1\u001b[0m\u001b[0;34m\u001b[0m\u001b[0;34m\u001b[0m\u001b[0m\n\u001b[1;32m      7\u001b[0m     \u001b[0mtxt_row\u001b[0m \u001b[0;34m=\u001b[0m\u001b[0;34m\"\"\u001b[0m\u001b[0;34m\u001b[0m\u001b[0;34m\u001b[0m\u001b[0m\n\u001b[0;32m----> 8\u001b[0;31m     \u001b[0;32mwith\u001b[0m \u001b[0mopen\u001b[0m\u001b[0;34m(\u001b[0m\u001b[0mBoa_file\u001b[0m\u001b[0;34m,\u001b[0m \u001b[0;34m\"r\"\u001b[0m\u001b[0;34m)\u001b[0m \u001b[0;32mas\u001b[0m \u001b[0mf\u001b[0m\u001b[0;34m,\u001b[0m \u001b[0mopen\u001b[0m\u001b[0;34m(\u001b[0m\u001b[0moutput_file\u001b[0m\u001b[0;34m,\u001b[0m \u001b[0;34m\"w\"\u001b[0m\u001b[0;34m)\u001b[0m \u001b[0;32mas\u001b[0m \u001b[0mconverted_file\u001b[0m\u001b[0;34m:\u001b[0m\u001b[0;34m\u001b[0m\u001b[0;34m\u001b[0m\u001b[0m\n\u001b[0m\u001b[1;32m      9\u001b[0m         \u001b[0;32mfor\u001b[0m \u001b[0mline\u001b[0m \u001b[0;32min\u001b[0m \u001b[0mf\u001b[0m\u001b[0;34m:\u001b[0m\u001b[0;34m\u001b[0m\u001b[0;34m\u001b[0m\u001b[0m\n\u001b[1;32m     10\u001b[0m             \u001b[0;31m# print(line)\u001b[0m\u001b[0;34m\u001b[0m\u001b[0;34m\u001b[0m\u001b[0;34m\u001b[0m\u001b[0m\n",
      "\u001b[0;31mFileNotFoundError\u001b[0m: [Errno 2] No such file or directory: 'part-r-00000'"
     ]
    }
   ],
   "source": [
    "\n",
    "def BoaOutput2Text(Boa_file):\n",
    "    \n",
    "    output_file = Boa_file+\"_converted\"\n",
    "    taxSet = set()\n",
    "    current_id = -1\n",
    "    txt_row =\"\"\n",
    "    with open(Boa_file, \"r\") as f, open(output_file, \"w\") as converted_file:\n",
    "        for line in f:\n",
    "            # print(line)\n",
    "            \n",
    "            words = line.split(\"[\") # ['count', '12E8]', '3JAB]', '9913] = 4']\n",
    "            row_id = words[1][:-1]\n",
    "            seq_id = words[2][:-1]\n",
    "            tax_id = words[3][:words[3].index(\"]\")]\n",
    "            tax_count = line[line.index(\"= \") + 2 :]\n",
    "\n",
    "            if (current_id == -1):\n",
    "                current_id = row_id\n",
    "                txt_row = row_id +\":\"\n",
    "\n",
    "            # while the new line is in the same cluster add the tax ids to the set\n",
    "            if current_id == row_id:\n",
    "                # count number of tax ids for each protein or cluster here\n",
    "                if tax_id !='' and tax_id !='0':\n",
    "                    taxSet.add(tax_id)\n",
    "                    txt_row += seq_id + \",\" + tax_id +\"=\" + tax_count.rstrip() + \";\"\n",
    "\n",
    "            else:\n",
    "\n",
    "                current_id = row_id\n",
    "                txt_row = txt_row[:-1]\n",
    "\n",
    "                # print(txt_row)\n",
    "                if txt_row.count(';') > 0 :\n",
    "                    converted_file.write(txt_row + \"\\n\")\n",
    "\n",
    "                txt_row = row_id + \":\"\n",
    "                taxSet.clear()\n",
    "                if tax_id !='' and tax_id !='0':\n",
    "                    taxSet.add(tax_id)\n",
    "                    txt_row += seq_id + \",\" + tax_id+\"=\"+tax_count.rstrip()+\";\"\n",
    "\n",
    "    txt_row = txt_row[:-1]\n",
    "    # print(txt_row)\n",
    "    with open(output_file, \"a\") as converted_file:\n",
    "        if txt_row.count(';') > 0:\n",
    "            converted_file.write(txt_row+ \"\\n\")\n",
    "\n",
    "\n",
    "Boa_file =\"part-r-00000\"\n",
    "BoaOutput2Text(Boa_file)\n"
   ]
  },
  {
   "cell_type": "code",
   "execution_count": 36,
   "metadata": {},
   "outputs": [
    {
     "ename": "FileNotFoundError",
     "evalue": "[Errno 2] No such file or directory: 'part-r-00000'",
     "output_type": "error",
     "traceback": [
      "\u001b[0;31m---------------------------------------------------------------------------\u001b[0m",
      "\u001b[0;31mFileNotFoundError\u001b[0m                         Traceback (most recent call last)",
      "\u001b[0;32m<ipython-input-36-931c83f393f3>\u001b[0m in \u001b[0;36m<module>\u001b[0;34m()\u001b[0m\n\u001b[1;32m      1\u001b[0m \u001b[0mBoa_file\u001b[0m \u001b[0;34m=\u001b[0m\u001b[0;34m\"part-r-00000\"\u001b[0m\u001b[0;34m\u001b[0m\u001b[0;34m\u001b[0m\u001b[0m\n\u001b[0;32m----> 2\u001b[0;31m \u001b[0mBoaOutput2Text\u001b[0m\u001b[0;34m(\u001b[0m\u001b[0mBoa_file\u001b[0m\u001b[0;34m)\u001b[0m\u001b[0;34m\u001b[0m\u001b[0;34m\u001b[0m\u001b[0m\n\u001b[0m",
      "\u001b[0;32m<ipython-input-32-6935076dd607>\u001b[0m in \u001b[0;36mBoaOutput2Text\u001b[0;34m(Boa_file)\u001b[0m\n\u001b[1;32m      8\u001b[0m     \u001b[0mcurrent_id\u001b[0m \u001b[0;34m=\u001b[0m \u001b[0;34m-\u001b[0m\u001b[0;36m1\u001b[0m\u001b[0;34m\u001b[0m\u001b[0;34m\u001b[0m\u001b[0m\n\u001b[1;32m      9\u001b[0m     \u001b[0mtxt_row\u001b[0m \u001b[0;34m=\u001b[0m\u001b[0;34m\"\"\u001b[0m\u001b[0;34m\u001b[0m\u001b[0;34m\u001b[0m\u001b[0m\n\u001b[0;32m---> 10\u001b[0;31m     \u001b[0;32mwith\u001b[0m \u001b[0mopen\u001b[0m\u001b[0;34m(\u001b[0m\u001b[0mBoa_file\u001b[0m\u001b[0;34m,\u001b[0m \u001b[0;34m\"r\"\u001b[0m\u001b[0;34m)\u001b[0m \u001b[0;32mas\u001b[0m \u001b[0mf\u001b[0m\u001b[0;34m,\u001b[0m \u001b[0mopen\u001b[0m\u001b[0;34m(\u001b[0m\u001b[0moutput_file\u001b[0m\u001b[0;34m,\u001b[0m \u001b[0;34m\"w\"\u001b[0m\u001b[0;34m)\u001b[0m \u001b[0;32mas\u001b[0m \u001b[0mconverted_file\u001b[0m\u001b[0;34m:\u001b[0m\u001b[0;34m\u001b[0m\u001b[0;34m\u001b[0m\u001b[0m\n\u001b[0m\u001b[1;32m     11\u001b[0m         \u001b[0;32mfor\u001b[0m \u001b[0mline\u001b[0m \u001b[0;32min\u001b[0m \u001b[0mf\u001b[0m\u001b[0;34m:\u001b[0m\u001b[0;34m\u001b[0m\u001b[0;34m\u001b[0m\u001b[0m\n\u001b[1;32m     12\u001b[0m             \u001b[0;31m# print(line)\u001b[0m\u001b[0;34m\u001b[0m\u001b[0;34m\u001b[0m\u001b[0;34m\u001b[0m\u001b[0m\n",
      "\u001b[0;31mFileNotFoundError\u001b[0m: [Errno 2] No such file or directory: 'part-r-00000'"
     ]
    }
   ],
   "source": []
  },
  {
   "cell_type": "code",
   "execution_count": 35,
   "metadata": {},
   "outputs": [
    {
     "data": {
      "text/html": [
       "<div>\n",
       "<style scoped>\n",
       "    .dataframe tbody tr th:only-of-type {\n",
       "        vertical-align: middle;\n",
       "    }\n",
       "\n",
       "    .dataframe tbody tr th {\n",
       "        vertical-align: top;\n",
       "    }\n",
       "\n",
       "    .dataframe thead th {\n",
       "        text-align: right;\n",
       "    }\n",
       "</style>\n",
       "<table border=\"1\" class=\"dataframe\">\n",
       "  <thead>\n",
       "    <tr style=\"text-align: right;\">\n",
       "      <th></th>\n",
       "      <th>0</th>\n",
       "    </tr>\n",
       "  </thead>\n",
       "  <tbody>\n",
       "    <tr>\n",
       "      <th>0</th>\n",
       "      <td>12E8:12E8,10090=4;3JAB,9913=4;3JBQ,9913=2</td>\n",
       "    </tr>\n",
       "    <tr>\n",
       "      <th>1</th>\n",
       "      <td>13PK:13PK,5691=4;16PK,5691=1</td>\n",
       "    </tr>\n",
       "    <tr>\n",
       "      <th>2</th>\n",
       "      <td>148L:148L,562=1;180L,10665=2;1QTV,10665=1</td>\n",
       "    </tr>\n",
       "    <tr>\n",
       "      <th>3</th>\n",
       "      <td>150L:150L,10665=4;256L,10665=1</td>\n",
       "    </tr>\n",
       "    <tr>\n",
       "      <th>4</th>\n",
       "      <td>15C8:15C8,10090=2;25C8,10090=1;35C8,10090=1</td>\n",
       "    </tr>\n",
       "  </tbody>\n",
       "</table>\n",
       "</div>"
      ],
      "text/plain": [
       "                                             0\n",
       "0    12E8:12E8,10090=4;3JAB,9913=4;3JBQ,9913=2\n",
       "1                 13PK:13PK,5691=4;16PK,5691=1\n",
       "2    148L:148L,562=1;180L,10665=2;1QTV,10665=1\n",
       "3               150L:150L,10665=4;256L,10665=1\n",
       "4  15C8:15C8,10090=2;25C8,10090=1;35C8,10090=1"
      ]
     },
     "execution_count": 35,
     "metadata": {},
     "output_type": "execute_result"
    }
   ],
   "source": [
    "import pandas as pd\n",
    "df = pd.read_fwf(\"BoaOutput_converted\", header = None)\n",
    "df"
   ]
  },
  {
   "cell_type": "code",
   "execution_count": null,
   "metadata": {
    "collapsed": true
   },
   "outputs": [],
   "source": []
  }
 ],
 "metadata": {
  "kernelspec": {
   "display_name": "Python 3",
   "language": "python",
   "name": "python3"
  },
  "language_info": {
   "codemirror_mode": {
    "name": "ipython",
    "version": 3
   },
   "file_extension": ".py",
   "mimetype": "text/x-python",
   "name": "python",
   "nbconvert_exporter": "python",
   "pygments_lexer": "ipython3",
   "version": "3.6.8"
  }
 },
 "nbformat": 4,
 "nbformat_minor": 2
}
